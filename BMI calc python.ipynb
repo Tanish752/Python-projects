{
 "cells": [
  {
   "cell_type": "code",
   "execution_count": 2,
   "metadata": {},
   "outputs": [
    {
     "name": "stdout",
     "output_type": "stream",
     "text": [
      "Hi please enter your age: 33\n",
      "Hi please enter your Weight (in kg): 80\n",
      "Hi please enter your Height (in cm): 172\n",
      "Result:  Overweight\n"
     ]
    }
   ],
   "source": [
    "import numpy as np\n",
    "import pandas as pd\n",
    "\n",
    "x = np.arange(0,18.50,0.1)\n",
    "y = np.arange(18.50,26.00,0.1)\n",
    "z = np.arange(26.00,29.99,0.1)\n",
    "t = np.arange(30.00,35.00,0.1)\n",
    "s = np.arange(35.00,100.00,0.1)\n",
    "data = {\"Category\" :[\"Thinness\",\"Normal\",\"Overweight\",\"Obesity\",\"Morbid Obesity\"],\n",
    "                     \"Range\":[ x,y,z,t,s]}\n",
    "g = pd.DataFrame(data)\n",
    "a = float(input(\"Hi please enter your age: \"))\n",
    "b = float(input(\"Hi please enter your Weight (in kg): \"))\n",
    "c = float(input(\"Hi please enter your Height (in cm): \"))\n",
    "def BMI(b,c):\n",
    "        d=(b/((c/100)**2))\n",
    "        return (d)\n",
    "round(BMI(b,c),1)\n",
    "if round(BMI(b,c),1) in g.iloc[0,1].round(1):\n",
    "    print(\"Result: \",  g.iloc[0,0])\n",
    "elif round(BMI(b,c),1) in g.iloc[1,1].round(1):\n",
    "    print(\"Result: \",  g.iloc[1,0])\n",
    "elif round(BMI(b,c),1) in g.iloc[2,1].round(1):\n",
    "    print(\"Result: \",  g.iloc[2,0])\n",
    "elif round(BMI(b,c),1) in g.iloc[3,1].round(1):\n",
    "    print(\"Result: \",  g.iloc[3,0])\n",
    "elif round(BMI(b,c),1) in g.iloc[4,1].round(1):\n",
    "    print(\"Result: \",  g.iloc[4,0])"
   ]
  },
  {
   "cell_type": "code",
   "execution_count": null,
   "metadata": {},
   "outputs": [],
   "source": []
  }
 ],
 "metadata": {
  "kernelspec": {
   "display_name": "Python 3",
   "language": "python",
   "name": "python3"
  },
  "language_info": {
   "codemirror_mode": {
    "name": "ipython",
    "version": 3
   },
   "file_extension": ".py",
   "mimetype": "text/x-python",
   "name": "python",
   "nbconvert_exporter": "python",
   "pygments_lexer": "ipython3",
   "version": "3.7.6"
  }
 },
 "nbformat": 4,
 "nbformat_minor": 4
}
